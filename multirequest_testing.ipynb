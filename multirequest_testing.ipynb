{
 "cells": [
  {
   "cell_type": "code",
   "execution_count": 1,
   "metadata": {},
   "outputs": [],
   "source": [
    "import requests\n",
    "import json\n",
    "\n",
    "url = \"http://localhost:2001/predict-realestate-batch\""
   ]
  },
  {
   "cell_type": "code",
   "execution_count": 6,
   "metadata": {},
   "outputs": [],
   "source": [
    "reqs = [\n",
    "    {\n",
    "      \"id\": f\"{i}\",\n",
    "      \"url\": \"/predict-realestate\",\n",
    "      \"method\": \"POST\",\n",
    "      \"headers\": {\n",
    "        \"x-token\": \"DEFI AI\",\n",
    "        \"Content-Type\": \"application/json\"\n",
    "      },\n",
    "      \"body\": {\n",
    "        \"landSize\": 45,\n",
    "        \"city\": \"hn\",\n",
    "        \"district\": \"hoàn kiếm\",\n",
    "        \"ward\": \"Tràng Tiền\",\n",
    "        \"street\": \"Lê Thánh Tông\",\n",
    "        \"prefixDistrict\": \"quận\",\n",
    "        \"numberOfFloors\": 6,\n",
    "        \"numberOfBathRooms\": 4,\n",
    "        \"numberOfLivingRooms\": 4,\n",
    "        \"endWidth\": 6,\n",
    "        \"frontWidth\": 4,\n",
    "        \"frontRoadWidth\": 4,\n",
    "        \"certificateOfLandUseRight\": True,\n",
    "        \"typeOfRealEstate\": \"privateProperty\",\n",
    "        \"facade\": \"twoSideOpen\",\n",
    "        \"houseDirection\": \"east\",\n",
    "        \"facility_check_ok\": True,\n",
    "        \"narrow_alley\": 2,\n",
    "        \"version\": \"v5\"\n",
    "      }\n",
    "    } for i in range(1)\n",
    "]"
   ]
  },
  {
   "cell_type": "code",
   "execution_count": 7,
   "metadata": {},
   "outputs": [
    {
     "name": "stdout",
     "output_type": "stream",
     "text": [
      "{\"responses\":[{\"id\":\"0\",\"status\":200,\"body\":{\"cat\":248.21984661997578,\"lgbm\":221.30528496964277,\"xgb\":213.75242614746094,\"bagging\":254.0428466199758,\"BKPrice System PostProcessing\":341.3878466199758}}]}\n"
     ]
    }
   ],
   "source": [
    "\n",
    "\n",
    "payload = json.dumps({\n",
    "  \"requests\": reqs,\n",
    "  \"base_url\": \"http://localhost:2001\"\n",
    "})\n",
    "headers = {\n",
    "  'Content-Type': 'application/json'\n",
    "}\n",
    "\n",
    "response = requests.request(\"POST\", url, headers=headers, data=payload)\n",
    "\n",
    "print(response.text)\n"
   ]
  }
 ],
 "metadata": {
  "kernelspec": {
   "display_name": "mlops-env",
   "language": "python",
   "name": "python3"
  },
  "language_info": {
   "codemirror_mode": {
    "name": "ipython",
    "version": 3
   },
   "file_extension": ".py",
   "mimetype": "text/x-python",
   "name": "python",
   "nbconvert_exporter": "python",
   "pygments_lexer": "ipython3",
   "version": "3.10.4"
  }
 },
 "nbformat": 4,
 "nbformat_minor": 2
}

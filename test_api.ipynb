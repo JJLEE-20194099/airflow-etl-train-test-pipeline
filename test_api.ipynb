{
 "cells": [
  {
   "cell_type": "code",
   "execution_count": 14,
   "metadata": {},
   "outputs": [
    {
     "name": "stdout",
     "output_type": "stream",
     "text": [
      "<Response [422]>\n"
     ]
    }
   ],
   "source": [
    "import requests\n",
    "import json\n",
    "\n",
    "url = \"http://localhost:2001/predict-realestate\"\n",
    "\n",
    "payload = json.dumps({\n",
    "  \"landSize\": 40,\n",
    "  \"city\": \"hn\",\n",
    "  \"district\": \"hàamàm\",\n",
    "  \"ward\": \"Hai Bà Trưng\",\n",
    "  \"street\": \"Lê Văn Lương\",\n",
    "  \"prefixDistrict\": \"huyện\",\n",
    "  \"numberOfFloors\": 3,\n",
    "  \"numberOfBathRooms\": 4,\n",
    "  \"numberOfLivingRooms\": 4\n",
    "})\n",
    "headers = {\n",
    "  'Content-Type': 'application/json'\n",
    "}\n",
    "\n",
    "response = requests.request(\"POST\", url, headers=headers, data=payload)\n",
    "\n",
    "print(response)\n"
   ]
  }
 ],
 "metadata": {
  "kernelspec": {
   "display_name": "mlops-env",
   "language": "python",
   "name": "python3"
  },
  "language_info": {
   "codemirror_mode": {
    "name": "ipython",
    "version": 3
   },
   "file_extension": ".py",
   "mimetype": "text/x-python",
   "name": "python",
   "nbconvert_exporter": "python",
   "pygments_lexer": "ipython3",
   "version": "3.10.4"
  }
 },
 "nbformat": 4,
 "nbformat_minor": 2
}
